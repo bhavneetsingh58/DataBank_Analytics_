{
 "cells": [
  {
   "cell_type": "code",
   "execution_count": 119,
   "metadata": {},
   "outputs": [],
   "source": [
    "import pandas as pd\n",
    "import numpy as np \n",
    "import datetime"
   ]
  },
  {
   "cell_type": "code",
   "execution_count": 120,
   "metadata": {},
   "outputs": [
    {
     "data": {
      "text/html": [
       "<div>\n",
       "<style scoped>\n",
       "    .dataframe tbody tr th:only-of-type {\n",
       "        vertical-align: middle;\n",
       "    }\n",
       "\n",
       "    .dataframe tbody tr th {\n",
       "        vertical-align: top;\n",
       "    }\n",
       "\n",
       "    .dataframe thead th {\n",
       "        text-align: right;\n",
       "    }\n",
       "</style>\n",
       "<table border=\"1\" class=\"dataframe\">\n",
       "  <thead>\n",
       "    <tr style=\"text-align: right;\">\n",
       "      <th></th>\n",
       "      <th>region_id</th>\n",
       "      <th>region_name</th>\n",
       "    </tr>\n",
       "  </thead>\n",
       "  <tbody>\n",
       "    <tr>\n",
       "      <th>0</th>\n",
       "      <td>1</td>\n",
       "      <td>Africa</td>\n",
       "    </tr>\n",
       "    <tr>\n",
       "      <th>1</th>\n",
       "      <td>2</td>\n",
       "      <td>America</td>\n",
       "    </tr>\n",
       "    <tr>\n",
       "      <th>2</th>\n",
       "      <td>3</td>\n",
       "      <td>Asia</td>\n",
       "    </tr>\n",
       "    <tr>\n",
       "      <th>3</th>\n",
       "      <td>4</td>\n",
       "      <td>Europe</td>\n",
       "    </tr>\n",
       "    <tr>\n",
       "      <th>4</th>\n",
       "      <td>5</td>\n",
       "      <td>Oceania</td>\n",
       "    </tr>\n",
       "  </tbody>\n",
       "</table>\n",
       "</div>"
      ],
      "text/plain": [
       "   region_id region_name\n",
       "0          1      Africa\n",
       "1          2     America\n",
       "2          3        Asia\n",
       "3          4      Europe\n",
       "4          5     Oceania"
      ]
     },
     "execution_count": 120,
     "metadata": {},
     "output_type": "execute_result"
    }
   ],
   "source": [
    "region = pd.read_csv(\"RAW/region.csv\")\n",
    "region"
   ]
  },
  {
   "cell_type": "code",
   "execution_count": 121,
   "metadata": {},
   "outputs": [
    {
     "data": {
      "text/html": [
       "<div>\n",
       "<style scoped>\n",
       "    .dataframe tbody tr th:only-of-type {\n",
       "        vertical-align: middle;\n",
       "    }\n",
       "\n",
       "    .dataframe tbody tr th {\n",
       "        vertical-align: top;\n",
       "    }\n",
       "\n",
       "    .dataframe thead th {\n",
       "        text-align: right;\n",
       "    }\n",
       "</style>\n",
       "<table border=\"1\" class=\"dataframe\">\n",
       "  <thead>\n",
       "    <tr style=\"text-align: right;\">\n",
       "      <th></th>\n",
       "      <th>customer_id</th>\n",
       "      <th>region_id</th>\n",
       "      <th>node_id</th>\n",
       "      <th>start_date</th>\n",
       "      <th>end_date</th>\n",
       "      <th>region_name</th>\n",
       "    </tr>\n",
       "  </thead>\n",
       "  <tbody>\n",
       "    <tr>\n",
       "      <th>0</th>\n",
       "      <td>1</td>\n",
       "      <td>3</td>\n",
       "      <td>4</td>\n",
       "      <td>2020-01-02</td>\n",
       "      <td>2020-01-03</td>\n",
       "      <td>Asia</td>\n",
       "    </tr>\n",
       "    <tr>\n",
       "      <th>1</th>\n",
       "      <td>2</td>\n",
       "      <td>3</td>\n",
       "      <td>5</td>\n",
       "      <td>2020-01-03</td>\n",
       "      <td>2020-01-17</td>\n",
       "      <td>Asia</td>\n",
       "    </tr>\n",
       "    <tr>\n",
       "      <th>2</th>\n",
       "      <td>3</td>\n",
       "      <td>5</td>\n",
       "      <td>4</td>\n",
       "      <td>2020-01-27</td>\n",
       "      <td>2020-02-18</td>\n",
       "      <td>Oceania</td>\n",
       "    </tr>\n",
       "    <tr>\n",
       "      <th>3</th>\n",
       "      <td>4</td>\n",
       "      <td>5</td>\n",
       "      <td>4</td>\n",
       "      <td>2020-01-07</td>\n",
       "      <td>2020-01-19</td>\n",
       "      <td>Oceania</td>\n",
       "    </tr>\n",
       "    <tr>\n",
       "      <th>4</th>\n",
       "      <td>5</td>\n",
       "      <td>3</td>\n",
       "      <td>3</td>\n",
       "      <td>2020-01-15</td>\n",
       "      <td>2020-01-23</td>\n",
       "      <td>Asia</td>\n",
       "    </tr>\n",
       "    <tr>\n",
       "      <th>...</th>\n",
       "      <td>...</td>\n",
       "      <td>...</td>\n",
       "      <td>...</td>\n",
       "      <td>...</td>\n",
       "      <td>...</td>\n",
       "      <td>...</td>\n",
       "    </tr>\n",
       "    <tr>\n",
       "      <th>3495</th>\n",
       "      <td>496</td>\n",
       "      <td>3</td>\n",
       "      <td>4</td>\n",
       "      <td>2020-02-25</td>\n",
       "      <td>9999-12-31</td>\n",
       "      <td>Asia</td>\n",
       "    </tr>\n",
       "    <tr>\n",
       "      <th>3496</th>\n",
       "      <td>497</td>\n",
       "      <td>5</td>\n",
       "      <td>4</td>\n",
       "      <td>2020-05-27</td>\n",
       "      <td>9999-12-31</td>\n",
       "      <td>Oceania</td>\n",
       "    </tr>\n",
       "    <tr>\n",
       "      <th>3497</th>\n",
       "      <td>498</td>\n",
       "      <td>1</td>\n",
       "      <td>2</td>\n",
       "      <td>2020-04-05</td>\n",
       "      <td>9999-12-31</td>\n",
       "      <td>Africa</td>\n",
       "    </tr>\n",
       "    <tr>\n",
       "      <th>3498</th>\n",
       "      <td>499</td>\n",
       "      <td>5</td>\n",
       "      <td>1</td>\n",
       "      <td>2020-02-03</td>\n",
       "      <td>9999-12-31</td>\n",
       "      <td>Oceania</td>\n",
       "    </tr>\n",
       "    <tr>\n",
       "      <th>3499</th>\n",
       "      <td>500</td>\n",
       "      <td>2</td>\n",
       "      <td>2</td>\n",
       "      <td>2020-04-15</td>\n",
       "      <td>9999-12-31</td>\n",
       "      <td>America</td>\n",
       "    </tr>\n",
       "  </tbody>\n",
       "</table>\n",
       "<p>3500 rows × 6 columns</p>\n",
       "</div>"
      ],
      "text/plain": [
       "      customer_id  region_id  node_id   start_date     end_date region_name\n",
       "0               1          3        4   2020-01-02   2020-01-03        Asia\n",
       "1               2          3        5   2020-01-03   2020-01-17        Asia\n",
       "2               3          5        4   2020-01-27   2020-02-18     Oceania\n",
       "3               4          5        4   2020-01-07   2020-01-19     Oceania\n",
       "4               5          3        3   2020-01-15   2020-01-23        Asia\n",
       "...           ...        ...      ...          ...          ...         ...\n",
       "3495          496          3        4   2020-02-25   9999-12-31        Asia\n",
       "3496          497          5        4   2020-05-27   9999-12-31     Oceania\n",
       "3497          498          1        2   2020-04-05   9999-12-31      Africa\n",
       "3498          499          5        1   2020-02-03   9999-12-31     Oceania\n",
       "3499          500          2        2   2020-04-15   9999-12-31     America\n",
       "\n",
       "[3500 rows x 6 columns]"
      ]
     },
     "execution_count": 121,
     "metadata": {},
     "output_type": "execute_result"
    }
   ],
   "source": [
    "customer_nodes = pd.read_csv(\"RAW/Customer_Nodes.csv\")\n",
    "\n",
    "customer_nodes = customer_nodes.merge(region, 'left', 'region_id')\n",
    "\n",
    "customer_nodes"
   ]
  },
  {
   "cell_type": "code",
   "execution_count": 122,
   "metadata": {},
   "outputs": [
    {
     "data": {
      "text/html": [
       "<div>\n",
       "<style scoped>\n",
       "    .dataframe tbody tr th:only-of-type {\n",
       "        vertical-align: middle;\n",
       "    }\n",
       "\n",
       "    .dataframe tbody tr th {\n",
       "        vertical-align: top;\n",
       "    }\n",
       "\n",
       "    .dataframe thead th {\n",
       "        text-align: right;\n",
       "    }\n",
       "</style>\n",
       "<table border=\"1\" class=\"dataframe\">\n",
       "  <thead>\n",
       "    <tr style=\"text-align: right;\">\n",
       "      <th></th>\n",
       "      <th>customer_id</th>\n",
       "      <th>txn_date</th>\n",
       "      <th>txn_type</th>\n",
       "      <th>txn_amount</th>\n",
       "    </tr>\n",
       "  </thead>\n",
       "  <tbody>\n",
       "    <tr>\n",
       "      <th>0</th>\n",
       "      <td>429</td>\n",
       "      <td>2020-01-21</td>\n",
       "      <td>deposit</td>\n",
       "      <td>82</td>\n",
       "    </tr>\n",
       "    <tr>\n",
       "      <th>1</th>\n",
       "      <td>155</td>\n",
       "      <td>2020-01-10</td>\n",
       "      <td>deposit</td>\n",
       "      <td>712</td>\n",
       "    </tr>\n",
       "    <tr>\n",
       "      <th>2</th>\n",
       "      <td>398</td>\n",
       "      <td>2020-01-01</td>\n",
       "      <td>deposit</td>\n",
       "      <td>196</td>\n",
       "    </tr>\n",
       "    <tr>\n",
       "      <th>3</th>\n",
       "      <td>255</td>\n",
       "      <td>2020-01-14</td>\n",
       "      <td>deposit</td>\n",
       "      <td>563</td>\n",
       "    </tr>\n",
       "    <tr>\n",
       "      <th>4</th>\n",
       "      <td>185</td>\n",
       "      <td>2020-01-29</td>\n",
       "      <td>deposit</td>\n",
       "      <td>626</td>\n",
       "    </tr>\n",
       "    <tr>\n",
       "      <th>...</th>\n",
       "      <td>...</td>\n",
       "      <td>...</td>\n",
       "      <td>...</td>\n",
       "      <td>...</td>\n",
       "    </tr>\n",
       "    <tr>\n",
       "      <th>5863</th>\n",
       "      <td>189</td>\n",
       "      <td>2020-02-03</td>\n",
       "      <td>withdrawal</td>\n",
       "      <td>870</td>\n",
       "    </tr>\n",
       "    <tr>\n",
       "      <th>5864</th>\n",
       "      <td>189</td>\n",
       "      <td>2020-03-22</td>\n",
       "      <td>purchase</td>\n",
       "      <td>718</td>\n",
       "    </tr>\n",
       "    <tr>\n",
       "      <th>5865</th>\n",
       "      <td>189</td>\n",
       "      <td>2020-02-06</td>\n",
       "      <td>purchase</td>\n",
       "      <td>393</td>\n",
       "    </tr>\n",
       "    <tr>\n",
       "      <th>5866</th>\n",
       "      <td>189</td>\n",
       "      <td>2020-01-22</td>\n",
       "      <td>deposit</td>\n",
       "      <td>302</td>\n",
       "    </tr>\n",
       "    <tr>\n",
       "      <th>5867</th>\n",
       "      <td>189</td>\n",
       "      <td>2020-01-27</td>\n",
       "      <td>withdrawal</td>\n",
       "      <td>861</td>\n",
       "    </tr>\n",
       "  </tbody>\n",
       "</table>\n",
       "<p>5868 rows × 4 columns</p>\n",
       "</div>"
      ],
      "text/plain": [
       "      customer_id     txn_date     txn_type  txn_amount\n",
       "0             429   2020-01-21      deposit          82\n",
       "1             155   2020-01-10      deposit         712\n",
       "2             398   2020-01-01      deposit         196\n",
       "3             255   2020-01-14      deposit         563\n",
       "4             185   2020-01-29      deposit         626\n",
       "...           ...          ...          ...         ...\n",
       "5863          189   2020-02-03   withdrawal         870\n",
       "5864          189   2020-03-22     purchase         718\n",
       "5865          189   2020-02-06     purchase         393\n",
       "5866          189   2020-01-22      deposit         302\n",
       "5867          189   2020-01-27   withdrawal         861\n",
       "\n",
       "[5868 rows x 4 columns]"
      ]
     },
     "execution_count": 122,
     "metadata": {},
     "output_type": "execute_result"
    }
   ],
   "source": [
    "customer_transactions = pd.read_csv(\"RAW/Customer_Transactions.csv\")\n",
    "customer_transactions"
   ]
  },
  {
   "cell_type": "markdown",
   "metadata": {},
   "source": [
    "A. Customer Nodes Exploration\n",
    "How many unique nodes are there on the Data Bank system?\n",
    "What is the number of nodes per region?\n",
    "How many customers are allocated to each region?\n",
    "How many days on average are customers reallocated to a different node?\n",
    "What is the median, 80th and 95th percentile for this same reallocation days metric for each region?"
   ]
  },
  {
   "cell_type": "code",
   "execution_count": 123,
   "metadata": {},
   "outputs": [
    {
     "name": "stdout",
     "output_type": "stream",
     "text": [
      "there are 3500 entries of nodes in the Data bank System\n",
      "these are all variations of the following  5 : [4 5 3 1 2]\n",
      "in the following proportions node_id\n",
      "1    728\n",
      "2    662\n",
      "3    699\n",
      "4    704\n",
      "5    707\n",
      "dtype: int64\n"
     ]
    }
   ],
   "source": [
    "#How many unique nodes are there on the Data Bank system?\n",
    "print(\"there are\",customer_nodes.node_id.count(),\"entries of nodes in the Data bank System\")\n",
    "\n",
    "print(\"these are all variations of the following \",len(customer_nodes.node_id.unique()),\":\",customer_nodes.node_id.unique())\n",
    "\n",
    "print(\"in the following proportions\", customer_nodes.groupby('node_id').size())"
   ]
  },
  {
   "cell_type": "code",
   "execution_count": 124,
   "metadata": {},
   "outputs": [
    {
     "name": "stdout",
     "output_type": "stream",
     "text": [
      "The Distribution for nodes per region is  region_name\n",
      "Africa     770\n",
      "America    735\n",
      "Asia       714\n",
      "Europe     665\n",
      "Oceania    616\n",
      "dtype: int64\n"
     ]
    }
   ],
   "source": [
    "#What is the number of nodes per region?\n",
    "print(\"The Distribution for nodes per region is \", customer_nodes.groupby('region_name').size())"
   ]
  },
  {
   "cell_type": "code",
   "execution_count": 125,
   "metadata": {},
   "outputs": [
    {
     "name": "stdout",
     "output_type": "stream",
     "text": [
      "Customers Allocated Per region are\n"
     ]
    },
    {
     "data": {
      "text/html": [
       "<div>\n",
       "<style scoped>\n",
       "    .dataframe tbody tr th:only-of-type {\n",
       "        vertical-align: middle;\n",
       "    }\n",
       "\n",
       "    .dataframe tbody tr th {\n",
       "        vertical-align: top;\n",
       "    }\n",
       "\n",
       "    .dataframe thead th {\n",
       "        text-align: right;\n",
       "    }\n",
       "</style>\n",
       "<table border=\"1\" class=\"dataframe\">\n",
       "  <thead>\n",
       "    <tr style=\"text-align: right;\">\n",
       "      <th></th>\n",
       "      <th>customers</th>\n",
       "    </tr>\n",
       "    <tr>\n",
       "      <th>region_name</th>\n",
       "      <th></th>\n",
       "    </tr>\n",
       "  </thead>\n",
       "  <tbody>\n",
       "    <tr>\n",
       "      <th>Africa</th>\n",
       "      <td>110</td>\n",
       "    </tr>\n",
       "    <tr>\n",
       "      <th>America</th>\n",
       "      <td>105</td>\n",
       "    </tr>\n",
       "    <tr>\n",
       "      <th>Asia</th>\n",
       "      <td>102</td>\n",
       "    </tr>\n",
       "    <tr>\n",
       "      <th>Europe</th>\n",
       "      <td>95</td>\n",
       "    </tr>\n",
       "    <tr>\n",
       "      <th>Oceania</th>\n",
       "      <td>88</td>\n",
       "    </tr>\n",
       "  </tbody>\n",
       "</table>\n",
       "</div>"
      ],
      "text/plain": [
       "             customers\n",
       "region_name           \n",
       "Africa             110\n",
       "America            105\n",
       "Asia               102\n",
       "Europe              95\n",
       "Oceania             88"
      ]
     },
     "execution_count": 125,
     "metadata": {},
     "output_type": "execute_result"
    }
   ],
   "source": [
    "#How many customers are allocated to each region?\n",
    "\n",
    "print(\"Customers Allocated Per region are\")\n",
    "customer_nodes.groupby('region_name').agg(customers=('customer_id', 'nunique'))\n",
    "\n"
   ]
  },
  {
   "cell_type": "code",
   "execution_count": 126,
   "metadata": {},
   "outputs": [
    {
     "name": "stdout",
     "output_type": "stream",
     "text": [
      "The Average Distribution per region is 100\n"
     ]
    }
   ],
   "source": [
    "print(\"The Average Distribution per region is\", int(\n",
    "    customer_nodes.customer_id.nunique()/customer_nodes.region_id.nunique()))\n"
   ]
  },
  {
   "cell_type": "code",
   "execution_count": 127,
   "metadata": {},
   "outputs": [
    {
     "name": "stdout",
     "output_type": "stream",
     "text": [
      "On average a customer is relocated to a new node after 14 days\n"
     ]
    }
   ],
   "source": [
    "#How many days on average are customers reallocated to a different node?\n",
    "\n",
    "#removing whitespaces from time_stamps\n",
    "customer_nodes['end_date'] = customer_nodes['end_date'].str.strip()\n",
    "\n",
    "#filtering out outlier 9999-12-31\n",
    "cn_2 = customer_nodes[customer_nodes['end_date'] != '9999-12-31'][['start_date','end_date']]\n",
    "\n",
    "#parsing dates to datetime from string\n",
    "cn_2['start_date'] = pd.to_datetime(cn_2['start_date'], format='%Y-%m-%d')\n",
    "cn_2['end_date'] = pd.to_datetime(cn_2['end_date'], format='%Y-%m-%d')\n",
    "\n",
    "#calculating time_delta in a list \n",
    "time_deltas = cn_2['end_date']-cn_2['start_date']\n",
    "\n",
    "#calculating average time a customer stays in a node\n",
    "# giving datetime.timedelta(0) as the start value makes sum work on tds\n",
    "customer_nodes = sum(time_deltas, datetime.timedelta(0))/len(time_deltas)\n",
    "\n",
    "print(\"On average a customer is relocated to a new node after\",average_time_delta.days,\"days\")\n",
    "\n",
    "#clearing temporary dataframe and lists from memory \n",
    "del cn_2\n",
    "del time_deltas\n"
   ]
  },
  {
   "cell_type": "code",
   "execution_count": 135,
   "metadata": {},
   "outputs": [
    {
     "data": {
      "text/plain": [
       "0      2020-01-02\n",
       "1      2020-01-03\n",
       "2      2020-01-27\n",
       "3      2020-01-07\n",
       "4      2020-01-15\n",
       "          ...    \n",
       "3495   2020-02-25\n",
       "3496   2020-05-27\n",
       "3497   2020-04-05\n",
       "3498   2020-02-03\n",
       "3499   2020-04-15\n",
       "Name: start_date, Length: 3500, dtype: datetime64[ns]"
      ]
     },
     "execution_count": 135,
     "metadata": {},
     "output_type": "execute_result"
    }
   ],
   "source": [
    "#fixing outliers \n",
    "pd.to_datetime(\n",
    "    customer_nodes['start_date'], format='%Y-%m-%d')+ average_time_delta\n",
    "\n",
    "\n",
    "#get start date and add average_time_delta to it \n"
   ]
  },
  {
   "cell_type": "code",
   "execution_count": 128,
   "metadata": {},
   "outputs": [],
   "source": [
    "\n"
   ]
  }
 ],
 "metadata": {
  "kernelspec": {
   "display_name": "Python 3.9.4 64-bit",
   "language": "python",
   "name": "python3"
  },
  "language_info": {
   "codemirror_mode": {
    "name": "ipython",
    "version": 3
   },
   "file_extension": ".py",
   "mimetype": "text/x-python",
   "name": "python",
   "nbconvert_exporter": "python",
   "pygments_lexer": "ipython3",
   "version": "3.9.4"
  },
  "orig_nbformat": 4,
  "vscode": {
   "interpreter": {
    "hash": "60d4dad81c9681acdb86f1401e8adb03653f46ecf06a50fea6bad6b487480902"
   }
  }
 },
 "nbformat": 4,
 "nbformat_minor": 2
}
